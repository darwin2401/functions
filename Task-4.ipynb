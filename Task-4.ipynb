{
 "cells": [
  {
   "cell_type": "markdown",
   "id": "99cdbca3-698a-4ca1-9199-5f38d6f7c5fb",
   "metadata": {},
   "source": [
    "# \"ARITHMETIC OPERATIONS\""
   ]
  },
  {
   "cell_type": "code",
   "execution_count": null,
   "id": "65cecf95-d23d-4a11-a62e-585c13c325e5",
   "metadata": {},
   "outputs": [],
   "source": []
  },
  {
   "cell_type": "markdown",
   "id": "e1e288b1-dbe2-42ee-b171-103ede66a1bf",
   "metadata": {},
   "source": [
    "## ADDITION"
   ]
  },
  {
   "cell_type": "code",
   "execution_count": 1,
   "id": "83f5c3e7-e199-4a39-825a-84917241e6d5",
   "metadata": {},
   "outputs": [],
   "source": [
    "def addition (p1,p2,p3):\n",
    "    print(f'p1 = {p1} , p2 = {p2}, p3 = {p3}')\n",
    "    print(f'This is addition of p1,p2 and p3 = {p1+p2+p3}')"
   ]
  },
  {
   "cell_type": "code",
   "execution_count": 2,
   "id": "5e156c43-892e-4024-815f-0200e9ba8686",
   "metadata": {},
   "outputs": [
    {
     "name": "stdout",
     "output_type": "stream",
     "text": [
      "p1 = 11 , p2 = 22, p3 = 33\n",
      "This is addition of p1,p2 and p3 = 66\n"
     ]
    }
   ],
   "source": [
    "addition(11,22,33)"
   ]
  },
  {
   "cell_type": "code",
   "execution_count": null,
   "id": "b068e0a2-469c-4496-80e2-af63fec90b15",
   "metadata": {},
   "outputs": [],
   "source": []
  },
  {
   "cell_type": "markdown",
   "id": "0fc14f23-980f-4a07-a295-47a793abeaaa",
   "metadata": {},
   "source": [
    "## SUBTRACTION"
   ]
  },
  {
   "cell_type": "code",
   "execution_count": 3,
   "id": "7ab3ca55-ef9f-4095-a1e1-25e59b92cc71",
   "metadata": {},
   "outputs": [],
   "source": [
    "def subtraction (s1,s2,s3,s4):\n",
    "    print(f' s1 = {s1}, s2= {s2}, s3 = {s3}, s4= {s4}')\n",
    "    print(f' The subtaction of s1,s2,s3 and s4 = {s1-s2-s3-s4}')"
   ]
  },
  {
   "cell_type": "code",
   "execution_count": 6,
   "id": "ac281c38-86a6-4a0b-a7f0-ad0d9fcf0684",
   "metadata": {},
   "outputs": [
    {
     "name": "stdout",
     "output_type": "stream",
     "text": [
      " s1 = 24, s2= 4, s3 = 8, s4= 5\n",
      " The subtaction of s1,s2,s3 and s4 = 7\n"
     ]
    }
   ],
   "source": [
    "subtraction(24,4,8,5)"
   ]
  },
  {
   "cell_type": "code",
   "execution_count": 7,
   "id": "8eddb87a-dba7-4867-91f4-015097c1f970",
   "metadata": {},
   "outputs": [
    {
     "name": "stdout",
     "output_type": "stream",
     "text": [
      " s1 = 48, s2= 258, s3 = 1456, s4= 74125\n",
      " The subtaction of s1,s2,s3 and s4 = -75791\n"
     ]
    }
   ],
   "source": [
    "subtraction(48,258,1456,74125)"
   ]
  },
  {
   "cell_type": "markdown",
   "id": "b8210059-7384-42f0-ab28-28d433483b4c",
   "metadata": {},
   "source": [
    "## MULTIPLICATION"
   ]
  },
  {
   "cell_type": "code",
   "execution_count": 8,
   "id": "0f71b795-46ee-4b3a-b670-956d81fad45e",
   "metadata": {},
   "outputs": [],
   "source": [
    "def multiplication (m1,m2,m3,m4):\n",
    "    print(f' m1 = {m1}, m2= {m2}, m3 = {m3}, m4 = {m4}')\n",
    "    print(f' The multiplication of m1,m2,m3 & m4 is = {m1*m2*m3*m4}')"
   ]
  },
  {
   "cell_type": "code",
   "execution_count": 9,
   "id": "3a4fb7d4-9cc5-4a2a-9175-e0951340de9d",
   "metadata": {},
   "outputs": [
    {
     "name": "stdout",
     "output_type": "stream",
     "text": [
      " m1 = 2, m2= 3, m3 = 4, m4 = 5\n",
      " The multiplication of m1,m2,m3 & m4 is = 120\n"
     ]
    }
   ],
   "source": [
    "multiplication(2,3,4,5)"
   ]
  },
  {
   "cell_type": "code",
   "execution_count": null,
   "id": "0463e972-7ade-4ff6-ad57-c4deb65edf0c",
   "metadata": {},
   "outputs": [],
   "source": []
  },
  {
   "cell_type": "markdown",
   "id": "c9b4284c-bbaa-456c-9810-1bac563cef8a",
   "metadata": {},
   "source": [
    "## DIVISION"
   ]
  },
  {
   "cell_type": "code",
   "execution_count": 10,
   "id": "5aebec78-dbd4-419a-9d9e-c8ed8b0ce632",
   "metadata": {},
   "outputs": [],
   "source": [
    "def division (d1,d2,d3):\n",
    "    print(f' d1 = {d1}, d2 = {d2}, d3 = {d3}')\n",
    "    print(f' The division of d1,d2 and d3 = {d1/d2/d3}')"
   ]
  },
  {
   "cell_type": "code",
   "execution_count": 11,
   "id": "bb89afb4-13bd-4c4a-826d-d8e5548bc7b3",
   "metadata": {},
   "outputs": [
    {
     "name": "stdout",
     "output_type": "stream",
     "text": [
      " d1 = 45, d2 = 9, d3 = 5\n",
      " The division of d1,d2 and d3 = 1.0\n"
     ]
    }
   ],
   "source": [
    "division(45,9,5)"
   ]
  },
  {
   "cell_type": "code",
   "execution_count": null,
   "id": "83bd5cd8-5aae-4e6c-b3b0-20f907afa6d7",
   "metadata": {},
   "outputs": [],
   "source": []
  },
  {
   "cell_type": "markdown",
   "id": "6ba6237c-619d-4982-be9a-38cb6981a501",
   "metadata": {},
   "source": [
    "# \"COMPARISON FUNCTION\""
   ]
  },
  {
   "cell_type": "code",
   "execution_count": null,
   "id": "cfc247ac-239f-48d5-9e57-d252759ddecf",
   "metadata": {},
   "outputs": [],
   "source": []
  },
  {
   "cell_type": "code",
   "execution_count": 16,
   "id": "8eca225f-ae09-46b7-9c29-b44137416c53",
   "metadata": {},
   "outputs": [
    {
     "name": "stdout",
     "output_type": "stream",
     "text": [
      "val1 < val2 =50<100=True\n"
     ]
    }
   ],
   "source": [
    "def comparison(val1 ,val2):\n",
    "    output = val1 < val2\n",
    "    print(f'val1 < val2 ={val1}<{val2}={output}')\n",
    "    \n",
    "comparison(50,100)"
   ]
  },
  {
   "cell_type": "code",
   "execution_count": null,
   "id": "96cdeff8-0a6c-4427-b528-cf615c12dcce",
   "metadata": {},
   "outputs": [],
   "source": []
  },
  {
   "cell_type": "markdown",
   "id": "0957b72f-05a5-4416-8923-43dff30e18ef",
   "metadata": {},
   "source": [
    "# \"RETURN FUNCTION\""
   ]
  },
  {
   "cell_type": "code",
   "execution_count": 28,
   "id": "0cb7b5b4-9f23-4cb6-974a-806d441995d7",
   "metadata": {},
   "outputs": [
    {
     "name": "stdout",
     "output_type": "stream",
     "text": [
      "val_1/val_2= 1534/547= 2.8043875685557587\n"
     ]
    }
   ],
   "source": [
    "def check(val_1,val_2):\n",
    "    result = val_1/val_2\n",
    "    print(f'val_1/val_2= {val_1}/{val_2}= {result}')\n",
    "    return result\n",
    "\n",
    "output=check(1534,547)"
   ]
  },
  {
   "cell_type": "code",
   "execution_count": null,
   "id": "415c0e03-b4ff-416d-91ec-325d0ab8f0fd",
   "metadata": {},
   "outputs": [],
   "source": []
  }
 ],
 "metadata": {
  "kernelspec": {
   "display_name": "Python 3 (ipykernel)",
   "language": "python",
   "name": "python3"
  },
  "language_info": {
   "codemirror_mode": {
    "name": "ipython",
    "version": 3
   },
   "file_extension": ".py",
   "mimetype": "text/x-python",
   "name": "python",
   "nbconvert_exporter": "python",
   "pygments_lexer": "ipython3",
   "version": "3.11.7"
  }
 },
 "nbformat": 4,
 "nbformat_minor": 5
}
